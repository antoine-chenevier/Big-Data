{
 "cells": [
  {
   "cell_type": "code",
   "execution_count": 20,
   "metadata": {},
   "outputs": [],
   "source": [
    "import pandas as pd\n",
    "import matplotlib.pyplot as plt"
   ]
  },
  {
   "cell_type": "code",
   "execution_count": 21,
   "metadata": {},
   "outputs": [],
   "source": [
    "# read the file wikirank-fr-v2.tsv\n",
    "df = pd.read_csv('wikirank-fr-v2.tsv', sep='\\t')\n"
   ]
  },
  {
   "cell_type": "code",
   "execution_count": 22,
   "metadata": {},
   "outputs": [
    {
     "name": "stdout",
     "output_type": "stream",
     "text": [
      "<class 'pandas.core.frame.DataFrame'>\n",
      "RangeIndex: 5220886 entries, 0 to 5220885\n",
      "Data columns (total 5 columns):\n",
      " #   Column            Dtype  \n",
      "---  ------            -----  \n",
      " 0   page_id           int64  \n",
      " 1   page_name         object \n",
      " 2   quality           float64\n",
      " 3   popularity        float64\n",
      " 4   authors_interest  float64\n",
      "dtypes: float64(3), int64(1), object(1)\n",
      "memory usage: 199.2+ MB\n",
      "None\n"
     ]
    }
   ],
   "source": [
    "print(df.info())\n"
   ]
  },
  {
   "cell_type": "code",
   "execution_count": 23,
   "metadata": {},
   "outputs": [
    {
     "data": {
      "text/html": [
       "<div>\n",
       "<style scoped>\n",
       "    .dataframe tbody tr th:only-of-type {\n",
       "        vertical-align: middle;\n",
       "    }\n",
       "\n",
       "    .dataframe tbody tr th {\n",
       "        vertical-align: top;\n",
       "    }\n",
       "\n",
       "    .dataframe thead th {\n",
       "        text-align: right;\n",
       "    }\n",
       "</style>\n",
       "<table border=\"1\" class=\"dataframe\">\n",
       "  <thead>\n",
       "    <tr style=\"text-align: right;\">\n",
       "      <th></th>\n",
       "      <th>page_id</th>\n",
       "      <th>page_name</th>\n",
       "      <th>quality</th>\n",
       "      <th>popularity</th>\n",
       "      <th>authors_interest</th>\n",
       "    </tr>\n",
       "  </thead>\n",
       "  <tbody>\n",
       "    <tr>\n",
       "      <th>0</th>\n",
       "      <td>4294959</td>\n",
       "      <td>Jean-Michel Ripa</td>\n",
       "      <td>14.7283</td>\n",
       "      <td>0.0</td>\n",
       "      <td>0.0</td>\n",
       "    </tr>\n",
       "    <tr>\n",
       "      <th>1</th>\n",
       "      <td>8433066</td>\n",
       "      <td>June Mar Fajardo</td>\n",
       "      <td>9.5865</td>\n",
       "      <td>0.0</td>\n",
       "      <td>0.0</td>\n",
       "    </tr>\n",
       "    <tr>\n",
       "      <th>2</th>\n",
       "      <td>6550804</td>\n",
       "      <td>Cnemaspis australis</td>\n",
       "      <td>23.0236</td>\n",
       "      <td>0.0</td>\n",
       "      <td>0.0</td>\n",
       "    </tr>\n",
       "    <tr>\n",
       "      <th>3</th>\n",
       "      <td>11861210</td>\n",
       "      <td>Équipe de Gambie des moins de 20 ans de football</td>\n",
       "      <td>15.3672</td>\n",
       "      <td>0.0</td>\n",
       "      <td>0.0</td>\n",
       "    </tr>\n",
       "    <tr>\n",
       "      <th>4</th>\n",
       "      <td>507867</td>\n",
       "      <td>Jerónimo Luis de Cabrera</td>\n",
       "      <td>9.5600</td>\n",
       "      <td>0.0</td>\n",
       "      <td>0.0</td>\n",
       "    </tr>\n",
       "  </tbody>\n",
       "</table>\n",
       "</div>"
      ],
      "text/plain": [
       "    page_id                                         page_name  quality  \\\n",
       "0   4294959                                  Jean-Michel Ripa  14.7283   \n",
       "1   8433066                                  June Mar Fajardo   9.5865   \n",
       "2   6550804                               Cnemaspis australis  23.0236   \n",
       "3  11861210  Équipe de Gambie des moins de 20 ans de football  15.3672   \n",
       "4    507867                          Jerónimo Luis de Cabrera   9.5600   \n",
       "\n",
       "   popularity  authors_interest  \n",
       "0         0.0               0.0  \n",
       "1         0.0               0.0  \n",
       "2         0.0               0.0  \n",
       "3         0.0               0.0  \n",
       "4         0.0               0.0  "
      ]
     },
     "execution_count": 23,
     "metadata": {},
     "output_type": "execute_result"
    }
   ],
   "source": [
    "df.head()"
   ]
  },
  {
   "cell_type": "code",
   "execution_count": 24,
   "metadata": {},
   "outputs": [
    {
     "name": "stdout",
     "output_type": "stream",
     "text": [
      "page_id               0\n",
      "page_name             7\n",
      "quality               1\n",
      "popularity          513\n",
      "authors_interest      1\n",
      "dtype: int64\n"
     ]
    }
   ],
   "source": [
    "# count the missing values in each column\n",
    "missing_values_count = df.isnull().sum()\n",
    "\n",
    "print(missing_values_count)"
   ]
  },
  {
   "cell_type": "code",
   "execution_count": 25,
   "metadata": {},
   "outputs": [
    {
     "name": "stdout",
     "output_type": "stream",
     "text": [
      "<class 'pandas.core.frame.DataFrame'>\n",
      "Index: 5220367 entries, 0 to 5220884\n",
      "Data columns (total 5 columns):\n",
      " #   Column            Dtype  \n",
      "---  ------            -----  \n",
      " 0   page_id           int64  \n",
      " 1   page_name         object \n",
      " 2   quality           float64\n",
      " 3   popularity        float64\n",
      " 4   authors_interest  float64\n",
      "dtypes: float64(3), int64(1), object(1)\n",
      "memory usage: 239.0+ MB\n",
      "page_id             0\n",
      "page_name           0\n",
      "quality             0\n",
      "popularity          0\n",
      "authors_interest    0\n",
      "dtype: int64\n"
     ]
    }
   ],
   "source": [
    "# delette row with missing values\n",
    "df = df.dropna()\n",
    "df.info()\n",
    "\n",
    "# count the missing values in each column\n",
    "missing_values_count = df.isnull().sum()\n",
    "\n",
    "print(missing_values_count)"
   ]
  },
  {
   "cell_type": "code",
   "execution_count": 26,
   "metadata": {},
   "outputs": [
    {
     "name": "stdout",
     "output_type": "stream",
     "text": [
      "<class 'pandas.core.frame.DataFrame'>\n",
      "Index: 2037826 entries, 0 to 5220874\n",
      "Data columns (total 5 columns):\n",
      " #   Column            Dtype  \n",
      "---  ------            -----  \n",
      " 0   page_id           int64  \n",
      " 1   page_name         object \n",
      " 2   quality           float64\n",
      " 3   popularity        float64\n",
      " 4   authors_interest  float64\n",
      "dtypes: float64(3), int64(1), object(1)\n",
      "memory usage: 93.3+ MB\n"
     ]
    }
   ],
   "source": [
    "# delette the doblones with the same id in page_id\n",
    "df = df.drop_duplicates(subset='page_id', keep='first')\n",
    "df.info()"
   ]
  },
  {
   "cell_type": "code",
   "execution_count": 27,
   "metadata": {},
   "outputs": [
    {
     "name": "stdout",
     "output_type": "stream",
     "text": [
      "Index                16302608\n",
      "page_id              16302608\n",
      "page_name           169620287\n",
      "quality              16302608\n",
      "popularity           16302608\n",
      "authors_interest     16302608\n",
      "dtype: int64\n"
     ]
    }
   ],
   "source": [
    "# witch columns have the bigest size\n",
    "print(df.memory_usage(deep=True))\n"
   ]
  },
  {
   "cell_type": "code",
   "execution_count": 28,
   "metadata": {},
   "outputs": [
    {
     "name": "stdout",
     "output_type": "stream",
     "text": [
      "page_id               int64\n",
      "page_name            object\n",
      "quality             float64\n",
      "popularity          float64\n",
      "authors_interest    float64\n",
      "dtype: object\n"
     ]
    }
   ],
   "source": [
    "# check the data type of each column\n",
    "data_types = df.dtypes\n",
    "\n",
    "print(data_types)"
   ]
  },
  {
   "cell_type": "code",
   "execution_count": 29,
   "metadata": {},
   "outputs": [
    {
     "name": "stdout",
     "output_type": "stream",
     "text": [
      "0\n"
     ]
    }
   ],
   "source": [
    "# count the number of duplicate values for each column\n",
    "duplicate_rows = df.duplicated().sum()\n",
    "print(duplicate_rows)"
   ]
  },
  {
   "cell_type": "code",
   "execution_count": 30,
   "metadata": {},
   "outputs": [
    {
     "name": "stdout",
     "output_type": "stream",
     "text": [
      "page_id 3 12530836\n",
      "quality 0.0105 1000.0\n",
      "popularity 0.0 17317.0\n",
      "authors_interest 0.0 317.0\n"
     ]
    }
   ],
   "source": [
    "# compte les intervalles de valeurs pour chaque colonne\n",
    "df.describe()\n",
    "for col in df.columns:\n",
    "    if df[col].dtype == 'int64':\n",
    "        print(col,df[col].min(), df[col].max())\n",
    "    if df[col].dtype == 'float64':\n",
    "        print(col,df[col].min(), df[col].max())\n",
    "\n",
    "\n"
   ]
  },
  {
   "cell_type": "code",
   "execution_count": 31,
   "metadata": {},
   "outputs": [
    {
     "data": {
      "text/plain": [
       "<Axes: ylabel='Frequency'>"
      ]
     },
     "execution_count": 31,
     "metadata": {},
     "output_type": "execute_result"
    },
    {
     "data": {
      "image/png": "[encoded data removed]",
      "text/plain": [
       "<Figure size 640x480 with 1 Axes>"
      ]
     },
     "metadata": {},
     "output_type": "display_data"
    }
   ],
   "source": [
    "# plot popularity\n",
    "df['popularity'].plot.hist(bins=100)"
   ]
  },
  {
   "cell_type": "code",
   "execution_count": 32,
   "metadata": {},
   "outputs": [
    {
     "name": "stdout",
     "output_type": "stream",
     "text": [
      "          page_id                                page_name   quality  \\\n",
      "2021990      1095                                   France  100.0000   \n",
      "2023223   5285512                             Comptabilité   18.8296   \n",
      "2592378   3892024                          Game of Thrones   96.3727   \n",
      "1278341   3216891                                  Accueil    2.5082   \n",
      "523420   11315187              Saison 8 de Game of Thrones   43.9725   \n",
      "421561      19424           Cathédrale Notre-Dame de Paris   88.8588   \n",
      "273006   12460202                      Décès en avril 2019   10.7069   \n",
      "1907900     68652                          Erreur HTTP 404   33.5697   \n",
      "1343693   7361016                     Alfred Werner Maurer   18.8237   \n",
      "3351465  11321803                       Angèle (chanteuse)   39.8624   \n",
      "561601   10698127                                  Vault 7   38.3373   \n",
      "562089   11331377  Élections européennes de 2019 en France   71.5792   \n",
      "908219       1249                                   Google   95.3819   \n",
      "3233356      3135                              Victor Hugo   96.9109   \n",
      "2796960   9440061                             PNL (groupe)   49.4370   \n",
      "1367356  11751688              Saison 15 de Grey's Anatomy   49.6541   \n",
      "557526      82100                                    Gmail   53.1240   \n",
      "715709     776823                                  YouTube  100.0000   \n",
      "672997   12063327                              Juan Branco   61.5423   \n",
      "3971732    681159                                    Paris   92.8115   \n",
      "\n",
      "         popularity  authors_interest  \n",
      "2021990     17317.0              21.0  \n",
      "2023223      9077.0               6.0  \n",
      "2592378      6354.0              45.0  \n",
      "1278341      6265.0               0.0  \n",
      "523420       5045.0              39.0  \n",
      "421561       3689.0             154.0  \n",
      "273006       3444.0              37.0  \n",
      "1907900      2993.0               0.0  \n",
      "1343693      2781.0               0.0  \n",
      "3351465      2755.0              18.0  \n",
      "561601       2745.0               0.0  \n",
      "562089       2643.0              63.0  \n",
      "908219       2608.0               5.0  \n",
      "3233356      2381.0               8.0  \n",
      "2796960      2322.0              14.0  \n",
      "1367356      2173.0              17.0  \n",
      "557526       2045.0               6.0  \n",
      "715709       2025.0               2.0  \n",
      "672997       1977.0              48.0  \n",
      "3971732      1972.0              18.0  \n",
      "          page_id                        page_name  quality  popularity  \\\n",
      "1031920   8004452                 Rivington Street   6.6053         0.0   \n",
      "1031918   3599819           Placocosma resumptella   3.6402         0.0   \n",
      "1031913   3709365              Rue Robert-Estienne  29.3845         0.0   \n",
      "1031912   7247814                Ander (homonymie)   5.5395         0.0   \n",
      "1031907   7876135          1570 en arts plastiques  11.3921         0.0   \n",
      "1031902   6668045  Copa Libertadores féminine 2012  21.7977         0.0   \n",
      "1031898   8784110                      Aldo Arroni   3.9288         0.0   \n",
      "1031893   5699355             Jindal Steel & Power   4.0925         0.0   \n",
      "1031891   9901858                    Pierre Barbay   8.8823         0.0   \n",
      "1031889  12188260                Jacques Lavalleye  22.2423         0.0   \n",
      "1031888   3865478              Rue Albéric-Magnard  28.2744         0.0   \n",
      "1031886   6109388                   Atractus major  16.9314         0.0   \n",
      "1031884   3940467                 Temple de Montou   4.1136         0.0   \n",
      "1031882   9956735           Henrique Eduardo Alves  12.7557         0.0   \n",
      "1031879   9147371                      Niepruszewo  19.2619         0.0   \n",
      "1031871  11299423                     Lac Isabella  30.4141         0.0   \n",
      "1031868   8279567           Venceslas de Niemodlin   3.3519         0.0   \n",
      "1031867  11808919            Phare de Scogli Porri  18.7117         0.0   \n",
      "1031865   1426248         West Haven (Connecticut)  22.8321         0.0   \n",
      "5220874   4958804                        Ruderting   4.8531         0.0   \n",
      "\n",
      "         authors_interest  \n",
      "1031920               0.0  \n",
      "1031918               0.0  \n",
      "1031913               0.0  \n",
      "1031912               0.0  \n",
      "1031907               0.0  \n",
      "1031902               0.0  \n",
      "1031898               0.0  \n",
      "1031893               0.0  \n",
      "1031891               0.0  \n",
      "1031889               0.0  \n",
      "1031888               0.0  \n",
      "1031886               0.0  \n",
      "1031884               0.0  \n",
      "1031882               0.0  \n",
      "1031879               0.0  \n",
      "1031871               0.0  \n",
      "1031868               0.0  \n",
      "1031867               1.0  \n",
      "1031865               0.0  \n",
      "5220874               0.0  \n"
     ]
    }
   ],
   "source": [
    "# print the top 20 best and bad ranking\n",
    "print(df.sort_values(by='popularity', ascending=False).head(20))\n",
    "print(df.sort_values(by='popularity', ascending=False).tail(20))\n"
   ]
  },
  {
   "cell_type": "code",
   "execution_count": 33,
   "metadata": {},
   "outputs": [
    {
     "name": "stdout",
     "output_type": "stream",
     "text": [
      "1224742\n"
     ]
    }
   ],
   "source": [
    "# count the number of articles with a popularity of 0\n",
    "num_articles_popularity_0 = df[df['popularity'] == 0].shape[0]\n",
    "\n",
    "print(num_articles_popularity_0)"
   ]
  },
  {
   "cell_type": "code",
   "execution_count": 34,
   "metadata": {},
   "outputs": [
    {
     "name": "stdout",
     "output_type": "stream",
     "text": [
      "                   page_id   quality  popularity  authors_interest\n",
      "page_id           1.000000 -0.005846   -0.107942         -0.030254\n",
      "quality          -0.005846  1.000000    0.204323          0.212713\n",
      "popularity       -0.107942  0.204323    1.000000          0.355606\n",
      "authors_interest -0.030254  0.212713    0.355606          1.000000\n"
     ]
    },
    {
     "data": {
      "image/png": "[encoded data removed]",
      "text/plain": [
       "<Figure size 480x480 with 2 Axes>"
      ]
     },
     "metadata": {},
     "output_type": "display_data"
    }
   ],
   "source": [
    "\n",
    "# display the correlation between all variables\n",
    "# exclude object in df\n",
    "df_corr = df.select_dtypes(exclude=['object'])\n",
    "correlation_matrix = df_corr.corr()\n",
    "\n",
    "print(correlation_matrix)\n",
    "\n",
    "# plot the values of the correlation matrix print values and legend\n",
    "plt.matshow(correlation_matrix)\n",
    "plt.xticks(range(len(correlation_matrix.columns)), correlation_matrix.columns)\n",
    "plt.yticks(range(len(correlation_matrix.columns)), correlation_matrix.columns)\n",
    "plt.colorbar()\n",
    "plt.show()\n",
    "\n",
    "\n"
   ]
  }
 ],
 "metadata": {
  "kernelspec": {
   "display_name": "Python 3",
   "language": "python",
   "name": "python3"
  },
  "language_info": {
   "codemirror_mode": {
    "name": "ipython",
    "version": 3
   },
   "file_extension": ".py",
   "mimetype": "text/x-python",
   "name": "python",
   "nbconvert_exporter": "python",
   "pygments_lexer": "ipython3",
   "version": "3.10.8"
  },
  "orig_nbformat": 4
 },
 "nbformat": 4,
 "nbformat_minor": 2
}
